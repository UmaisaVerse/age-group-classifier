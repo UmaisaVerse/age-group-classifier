{
  "nbformat": 4,
  "nbformat_minor": 0,
  "metadata": {
    "colab": {
      "provenance": []
    },
    "kernelspec": {
      "name": "python3",
      "display_name": "Python 3"
    },
    "language_info": {
      "name": "python"
    }
  },
  "cells": [
    {
      "cell_type": "markdown",
      "source": [
        "#**Task 1**\n",
        "Write a program that categorizes a person's age into one of the following groups using only if-else statements:\n",
        "\n",
        "1. \"Child\" if the age is between 0 and 12 (inclusive).\n",
        "2. \"Teenager\" if the age is between 13 and 19 (inclusive).\n",
        "3. \"Adult\" if the age is between 20 and 64 (inclusive).\n",
        "4. \"Senior\" if the age is 65 or older."
      ],
      "metadata": {
        "id": "ODcBmEbL-kuw"
      }
    },
    {
      "cell_type": "code",
      "source": [
        "# Task # 01\n",
        "\n",
        "person_age = int(input(\"Kindly enter your age: \"))\n",
        "if 0 <= person_age <= 12:\n",
        "  print(\"You are a Child! \")\n",
        "elif 13 <= person_age <= 19:\n",
        "  print(\"You are a Teenager! \")\n",
        "elif 20 <= person_age <= 64:\n",
        "  print(\"You are an Adult! \")\n",
        "else:\n",
        "  print(\"You are a Senior! \")\n",
        "\n"
      ],
      "metadata": {
        "colab": {
          "base_uri": "https://localhost:8080/"
        },
        "id": "zUjQxBvDIo4r",
        "outputId": "4524d4c1-d85a-49ed-83a6-1a5ff12e82ee"
      },
      "execution_count": 1,
      "outputs": [
        {
          "output_type": "stream",
          "name": "stdout",
          "text": [
            "Kindly enter your age: 25\n",
            "You are an Adult! \n"
          ]
        }
      ]
    },
    {
      "cell_type": "markdown",
      "source": [
        "#**Task 2**\n",
        "Write a program which takes in input 10 numbers and classify them into even or odd numbers"
      ],
      "metadata": {
        "id": "DKQ9tJ49-4tV"
      }
    },
    {
      "cell_type": "code",
      "source": [
        "even_numbers = []\n",
        "odd_numbers = []\n",
        "for i in range(1, 11):\n",
        "    number = int(input(f\"Enter number {i}: \"))\n",
        "\n",
        "    if number % 2 == 0:\n",
        "        even_numbers.append(number)\n",
        "    else:\n",
        "        odd_numbers.append(number)\n",
        "\n",
        "\n",
        "print(\"\\nEven Numbers:\", even_numbers)\n",
        "print(\"Odd Numbers:\", odd_numbers)\n"
      ],
      "metadata": {
        "colab": {
          "base_uri": "https://localhost:8080/"
        },
        "id": "u8DVNbwoLIYA",
        "outputId": "b14785f7-e312-4bf0-808f-eb4946616cb0"
      },
      "execution_count": 2,
      "outputs": [
        {
          "output_type": "stream",
          "name": "stdout",
          "text": [
            "Enter number 1: 2\n",
            "Enter number 2: 5\n",
            "Enter number 3: 6\n",
            "Enter number 4: 8\n",
            "Enter number 5: 4\n",
            "Enter number 6: 6\n",
            "Enter number 7: 7\n",
            "Enter number 8: 8\n",
            "Enter number 9: 3\n",
            "Enter number 10: 2\n",
            "\n",
            "Even Numbers: [2, 6, 8, 4, 6, 8, 2]\n",
            "Odd Numbers: [5, 7, 3]\n"
          ]
        }
      ]
    }
  ]
}